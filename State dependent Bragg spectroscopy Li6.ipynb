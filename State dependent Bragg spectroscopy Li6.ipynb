{
 "cells": [
  {
   "cell_type": "markdown",
   "id": "f300b80d",
   "metadata": {},
   "source": [
    "# Theoretical calculations for state dependent Bragg specostropy on 6Li"
   ]
  },
  {
   "cell_type": "code",
   "execution_count": null,
   "id": "e902320d",
   "metadata": {},
   "outputs": [],
   "source": [
    "import matplotlib.pyplot as plt\n",
    "import numpy as np\n",
    "from scipy.constants import h, hbar, c, epsilon_0\n",
    "import collections\n",
    "from sympy.physics.quantum.cg import (Wigner3j, Wigner6j)"
   ]
  },
  {
   "cell_type": "markdown",
   "id": "7519b151",
   "metadata": {},
   "source": [
    "## Zeeman splitting"
   ]
  },
  {
   "cell_type": "code",
   "execution_count": null,
   "id": "f0afcaaf",
   "metadata": {},
   "outputs": [],
   "source": [
    "def dv(B, m_j, g_j, mu_B):\n",
    "    return mu_B*g_j*m_j*B"
   ]
  },
  {
   "cell_type": "code",
   "execution_count": null,
   "id": "177e6047",
   "metadata": {},
   "outputs": [],
   "source": [
    "g_J = np.array([2.0023010, 0.6668, 1.335]) # 2S, 2P1/2, 2P3/2\n",
    "mu_B_hbar = 1.4 #MHz/G\n",
    "B = np.arange(0, 1000, 50) #G"
   ]
  },
  {
   "cell_type": "code",
   "execution_count": null,
   "id": "3ae3ae08",
   "metadata": {},
   "outputs": [],
   "source": [
    "fig, ax = plt.subplots()\n",
    "ax.plot(B, dv(B, 1/2, g_J[1], mu_B_hbar), label='m_J = 1/2')\n",
    "ax.plot(B, dv(B, -1/2, g_J[1], mu_B_hbar), label='m_J = -1/2')\n",
    "plt.xlabel('B [G]')\n",
    "plt.ylabel('Δv [MHz]')\n",
    "plt.legend()\n",
    "#plt.savefig('.\\\\plots\\\\Zeeman_2P_1-2')\n",
    "plt.show()"
   ]
  },
  {
   "cell_type": "code",
   "execution_count": null,
   "id": "de2e6835",
   "metadata": {
    "scrolled": true
   },
   "outputs": [],
   "source": [
    "fig, ax = plt.subplots()\n",
    "ax.plot(B, dv(B, 3/2, g_J[2], mu_B_hbar), label='m_J = 3/2')\n",
    "ax.plot(B, dv(B, 1/2, g_J[2], mu_B_hbar), label='m_J = 1/2')\n",
    "ax.plot(B, dv(B, -1/2, g_J[2], mu_B_hbar), label='m_J = -1/2')\n",
    "ax.plot(B, dv(B, -3/2, g_J[2], mu_B_hbar), label='m_J = -3/2')\n",
    "plt.xlabel('B [G]')\n",
    "plt.ylabel('Δv [MHz]')\n",
    "plt.legend()\n",
    "#plt.savefig('.\\\\plots\\\\Zeeman_2P_3-2')\n",
    "plt.show()"
   ]
  },
  {
   "cell_type": "markdown",
   "id": "1bc16016",
   "metadata": {},
   "source": [
    "## Hyperfine splitting of the Groundstate"
   ]
  },
  {
   "cell_type": "code",
   "execution_count": null,
   "id": "7ef076e1",
   "metadata": {},
   "outputs": [],
   "source": [
    "# Breit-Rabi formula\n",
    "def BR(B, F, m_F): # B in Gaus, return in MHz\n",
    "    a = (g_e-g_I)*mu_B*B*1e-4/(h*vHFS)\n",
    "    root = 0\n",
    "    if(F!=abs(m_F) or F<I+1/2):\n",
    "        root = np.sqrt(1 + 4*m_F/(2*I+1)*a + a**2)\n",
    "    else:\n",
    "        root = 1 + m_F/abs(m_F)*a\n",
    "    return (-vHFS/(2*(2*I+1)) + g_I*m_F*mu_B*B*1e-4/h + vHFS*(F-1)*root)*1e-6\n",
    "\n",
    "def state_calc(F, m_F): # returns an int from 1 to 6, where 1 is the state with the lowest Energy\n",
    "    if F==1/2:\n",
    "        return int(3/2-m_F)\n",
    "    if F==3/2:\n",
    "        return int(9/2+m_F)\n",
    "\n",
    "def get_F(state):\n",
    "    if state <= 2:\n",
    "        return 1/2\n",
    "    if state > 2:\n",
    "        return 3/2\n",
    "\n",
    "def get_m_F(state):\n",
    "    if state <= 2:\n",
    "        return -state+3/2\n",
    "    if state > 2:\n",
    "        return state-9/2\n",
    "\n",
    "def state_spacing(state1, state2, B):\n",
    "    ans = BR(B, get_F(state1), get_m_F(state1)) - BR(B, get_F(state2), get_m_F(state2))\n",
    "    return 'The Frequency between |{}> and |{}> at B = {} Gauss is {} MHz'.format(state1, state2, B, ans)"
   ]
  },
  {
   "cell_type": "code",
   "execution_count": null,
   "id": "65bf7959",
   "metadata": {},
   "outputs": [],
   "source": [
    "# Constants\n",
    "vHFS = 228205260 # HFS for B=0 in Hz\n",
    "I = 1 # Corespin\n",
    "g_I = -0.0004476540 # Lande-g Factor core\n",
    "g_e = 2.0023193043737 # Lande-g Factor electrons\n",
    "mu_B = 927.400949e-26  # Bohr magneton"
   ]
  },
  {
   "cell_type": "code",
   "execution_count": null,
   "id": "a9c15f16",
   "metadata": {},
   "outputs": [],
   "source": [
    "B = np.linspace(0, 1000, 1000) # in G\n",
    "HFS = collections.namedtuple('HFS', 'v F m_F')\n",
    "data = []\n",
    "for i in range(1,7):\n",
    "    F = get_F(i)\n",
    "    m_F = get_m_F(i)\n",
    "    data.append(HFS(v=BR(B, F, m_F), F=F, m_F=m_F))\n",
    "\n",
    "fig, ax = plt.subplots(figsize=(16, 9))\n",
    "for n in reversed(range(6)):\n",
    "    ax.plot(B, data[n].v, label='|{}>'.format(n+1))\n",
    "ax.set_xlabel('Magnetic field strength [G]')\n",
    "ax.set_ylabel('Δv [MHz]')\n",
    "ax.set_title('Breit-Rabi diagram for Li-6')\n",
    "ax.legend()\n",
    "#plt.savefig('.\\\\plots\\\\Zeeman_2S')\n",
    "plt.show()"
   ]
  },
  {
   "cell_type": "code",
   "execution_count": null,
   "id": "694a2700",
   "metadata": {},
   "outputs": [],
   "source": [
    "print(state_spacing(1, 2, 1000))\n",
    "print(state_spacing(2, 3, 1000))\n",
    "print(state_spacing(1, 2, 832))\n",
    "print(state_spacing(2, 3, 832))"
   ]
  },
  {
   "cell_type": "markdown",
   "id": "f6b4e6c4",
   "metadata": {},
   "source": [
    "## Polarizabilities"
   ]
  },
  {
   "cell_type": "code",
   "execution_count": null,
   "id": "56fcbadc",
   "metadata": {},
   "outputs": [],
   "source": [
    "# Constants\n",
    "Gamma = 36.898e6 # s^-1\n",
    "D1_wavel = 670.992421e-9 # m\n",
    "D2_wavel = 670.977338e-9 # m\n",
    "D1 = 446.789634e12 # Hz\n",
    "D2 = 446.799677e12 # Hz\n",
    "Delta = D1-D2\n",
    "#-np.pi*epsilon_0*c**3*Gamma/((2*np.pi*D2)**3*1.64877727436e-41)"
   ]
  },
  {
   "cell_type": "code",
   "execution_count": null,
   "id": "fad901b4",
   "metadata": {},
   "outputs": [],
   "source": [
    "def alpha(v, p, F, m_F, g_F): # in a.u., magnetic field is not taken into account\n",
    "    return -np.pi*epsilon_0*c**3*Gamma/(2*np.pi*D2)**3 * ((2+p*g_F*m_F)/v + (1-p*g_F*m_F)/(v-Delta)) / 1.64877727436e-41\n",
    "\n",
    "def g_F_calc(F):\n",
    "    J = F - I\n",
    "    return g_J[0] * (F * (F + 1) - I * (I + 1) + J * (J + 1)) / (2 * F * (F + 1))\n",
    "\n",
    "def plot(v, p):\n",
    "    fig, ax = plt.subplots(2, figsize=(10, 10))\n",
    "    for i in [1, 2]: # States 1 & 2\n",
    "        m_F = get_m_F(i)\n",
    "        ax[0].plot(v*1e-9, alpha(v, p=p, F=1/2, m_F=m_F, g_F=g_F_calc(F=1/2)), label='|{}>'.format(i))\n",
    "        \n",
    "    for n in [1, 3]: # States 1 & 3\n",
    "        F = get_F(n)\n",
    "        m_F = get_m_F(n)\n",
    "        ax[1].plot(v*1e-9, alpha(v, p=p, F=F, m_F=m_F, g_F=g_F_calc(F=F)), label='|{}>'.format(n))\n",
    "    \n",
    "    for k in range(2):\n",
    "        ax[k].set_ylim(5e8, -5e8)\n",
    "        ax[k].set_ylabel('α [a.u.]')\n",
    "        ax[k].legend()\n",
    "        #ax[k].axvline(Delta*1e-9, ls='--', color='gray') # D1\n",
    "        #ax[k].axvline(0, linestyle='--', color='gray') # D2\n",
    "    x_ticks = np.array([Delta, Delta/2, 0])\n",
    "    x_labels = np.around(freq_to_wavel(x_ticks), decimals=3)\n",
    "    ax[0].set_xticks(x_ticks*1e-9, x_labels)\n",
    "    ax[0].set_title('Polarization {}'.format(format_pol(p)))\n",
    "    ax[0].set_xlabel('λ [nm]')\n",
    "    ax[1].set_xlabel('Δv [GHz]')\n",
    "    plt.show()\n",
    "\n",
    "def freq_to_wavel(freq): # frequency in offset from D2 in Hz, wavelength in nm\n",
    "    return c/(freq+D2)*1e9\n",
    "\n",
    "def format_pol(p):\n",
    "    for pol, string in enumerate(['σ-', 'π', 'σ+'], start=-1):\n",
    "        if p == pol:\n",
    "            return string"
   ]
  },
  {
   "cell_type": "code",
   "execution_count": null,
   "id": "6ca94f21",
   "metadata": {
    "scrolled": false
   },
   "outputs": [],
   "source": [
    "v = np.linspace(-13e9, 3e9, 100000) # Hz\n",
    "# maybe v/2pi\n",
    "plot(v, p=0)"
   ]
  },
  {
   "cell_type": "code",
   "execution_count": null,
   "id": "22c92eca",
   "metadata": {},
   "outputs": [],
   "source": [
    "plot(v, p=-1)"
   ]
  },
  {
   "cell_type": "code",
   "execution_count": null,
   "id": "7d6fd208",
   "metadata": {},
   "outputs": [],
   "source": [
    "plot(v, p=1)"
   ]
  },
  {
   "cell_type": "markdown",
   "id": "b73ad775",
   "metadata": {},
   "source": [
    "## Scattering rates"
   ]
  },
  {
   "cell_type": "code",
   "execution_count": null,
   "id": "474ebb7f",
   "metadata": {},
   "outputs": [],
   "source": [
    "# Constants\n",
    "s = 0.01 # I/I_s Laser Intensity / saturation Intensity\n",
    "rabi_freq = Gamma*np.sqrt(1/2*s)"
   ]
  },
  {
   "cell_type": "code",
   "execution_count": null,
   "id": "1d2de967",
   "metadata": {},
   "outputs": [],
   "source": [
    "def rabi_fre(v, F1, m_F1, F2, m_F2, p):\n",
    "    I = 1\n",
    "    J1 = F1 - I\n",
    "    J2 = F2 - I\n",
    "    L = 0\n",
    "    S1 = J1\n",
    "    S2 = J2\n",
    "    w3j = Wigner3j(F1, 1, F2, -m_F1, p, m_F2)\n",
    "    w6j_1 = Wigner6j(J1, F1, I, F2, J2, 1)\n",
    "    w6j_2 = Wigner6j(L, J1, S1, J2, L, 1)\n",
    "    exp = 1/2*p*(1+p)+1+2*F1-m_F1+I+J2+S1+L+J1\n",
    "    root = np.sqrt(3*freq_to_wavel(v)**3*Gamma*I/(4*np.pi**2*c*hbar))\n",
    "    root_num = np.sqrt((2*F1+1)*(2*F2+1)*(2*J1+1)*(2*J2+1)*(2*L+1))\n",
    "    return (-1)**exp*root*root_num*w3j*w6j_1*w6j_2\n",
    "\n",
    "def scattering_rate(v):\n",
    "    ans = 0\n",
    "    for w in [D1, D2]:\n",
    "        ans += rabi_freq**2/Gamma/(1+2*rabi_freq**2/Gamma**2+4*(v-w)**2/Gamma**2)\n",
    "    return ans"
   ]
  },
  {
   "cell_type": "code",
   "execution_count": null,
   "id": "975bcb3c",
   "metadata": {},
   "outputs": [],
   "source": [
    "fig, ax = plt.subplots(figsize=(16, 9))\n",
    "plt.plot(v, scattering_rate(v))\n",
    "plt.show"
   ]
  },
  {
   "cell_type": "code",
   "execution_count": null,
   "id": "54a9a688",
   "metadata": {},
   "outputs": [],
   "source": []
  }
 ],
 "metadata": {
  "kernelspec": {
   "display_name": "Python 3 (ipykernel)",
   "language": "python",
   "name": "python3"
  },
  "language_info": {
   "codemirror_mode": {
    "name": "ipython",
    "version": 3
   },
   "file_extension": ".py",
   "mimetype": "text/x-python",
   "name": "python",
   "nbconvert_exporter": "python",
   "pygments_lexer": "ipython3",
   "version": "3.9.12"
  }
 },
 "nbformat": 4,
 "nbformat_minor": 5
}
